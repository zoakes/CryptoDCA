{
 "cells": [
  {
   "cell_type": "code",
   "execution_count": 10,
   "metadata": {},
   "outputs": [
    {
     "data": {
      "text/plain": [
       "0.07823763893331392"
      ]
     },
     "execution_count": 10,
     "metadata": {},
     "output_type": "execute_result"
    }
   ],
   "source": [
    "ann_return = 2.4693 #246.93\n",
    "mo_return = (ann_return ** (1 / 12)) - 1\n",
    "mo_return"
   ]
  },
  {
   "cell_type": "code",
   "execution_count": 22,
   "metadata": {},
   "outputs": [
    {
     "data": {
      "text/plain": [
       "'100,000'"
      ]
     },
     "execution_count": 22,
     "metadata": {},
     "output_type": "execute_result"
    }
   ],
   "source": [
    "import locale\n",
    "locale.setlocale(locale.LC_ALL, '')\n",
    "\n",
    "value = 100000\n",
    "'{:n}'.format(value)  # For Python ≥2.7"
   ]
  },
  {
   "cell_type": "code",
   "execution_count": 27,
   "metadata": {},
   "outputs": [
    {
     "name": "stdout",
     "output_type": "stream",
     "text": [
      "Months of Interest: 60 --- At End Date 91,805.6\n",
      "Months of Interest: 50 --- At End Date 43,223.9\n",
      "Months of Interest: 40 --- At End Date 20,350.7\n",
      "Months of Interest: 30 --- At End Date 9,581.53\n",
      "Months of Interest: 20 --- At End Date 4,511.18\n",
      "Months of Interest: 10 --- At End Date 2,123.95\n",
      "Cumulative: 1251444.2136206576\n"
     ]
    }
   ],
   "source": [
    "monthly_deposit = 1000 # THIS is the DEPOSIT amount (MONTHLY deposit amount)\n",
    "\n",
    "yrs = 5\n",
    "mos = yrs * 12\n",
    "r = mo_return\n",
    "\n",
    "\n",
    "CUMULATIVE = 0.0\n",
    "## TRACK it in MONTHS\n",
    "for i in range(mos):\n",
    "    months_of_interest = mos - i\n",
    "    # print(months_of_interest)\n",
    "    \n",
    "    at_end_date = monthly_deposit * ( (1 + (mo_return)) ** months_of_interest)\n",
    "    CUMULATIVE += at_end_date\n",
    "    \n",
    "    if i % 10 == 0: print(f'Months of Interest: {months_of_interest} --- At End Date {at_end_date :n}')\n",
    "\n",
    "print(f'Cumulative: {CUMULATIVE}')"
   ]
  },
  {
   "cell_type": "code",
   "execution_count": 61,
   "metadata": {},
   "outputs": [
    {
     "name": "stdout",
     "output_type": "stream",
     "text": [
      "$2000/mo deposited, x 5 Years, @ 7.82% (monthly)\n",
      "\n",
      "0 Months in -- Months of Interest (remaining): 60 --- This deposit value at End Date 183,611\n",
      "10 Months in -- Months of Interest (remaining): 50 --- This deposit value at End Date 86,447.9\n",
      "20 Months in -- Months of Interest (remaining): 40 --- This deposit value at End Date 40,701.4\n",
      "30 Months in -- Months of Interest (remaining): 30 --- This deposit value at End Date 19,163.1\n",
      "40 Months in -- Months of Interest (remaining): 20 --- This deposit value at End Date 9,022.35\n",
      "50 Months in -- Months of Interest (remaining): 10 --- This deposit value at End Date 4,247.91\n",
      "\n",
      " ------------------ Totals -------------------- \n",
      "\n",
      "Total Value Invested:  $120,000\n",
      "Total Value Projected: $2502888.43\n",
      "Total Profit / Loss:   $2382888.427241315\n"
     ]
    },
    {
     "data": {
      "text/plain": [
       "2502888.427241315"
      ]
     },
     "execution_count": 61,
     "metadata": {},
     "output_type": "execute_result"
    }
   ],
   "source": [
    "\n",
    "def MonthlyReturn():\n",
    "    ann_return = 2.4693 #246.93 --- See Crypto DCA worksheet.\n",
    "    mo_return = (ann_return ** (1 / 12)) - 1\n",
    "    return mo_return\n",
    "\n",
    "\n",
    "def CryptoEWProjections(mo_deposit, yrs=5, r=MonthlyReturn()):\n",
    "    '''\n",
    "    Used to project User's (Mean) Future returns, or expected FV of monthly deposit, given historical returns.\n",
    "    Using a basic FV calculation, based on remaining months of interest.\n",
    "    Rate derived from equal weight performance over lifetime of crypto data available (@ YF)\n",
    "    No costs included in projections (No SaaS, transaction fees, ACH fees)\n",
    "    '''\n",
    "    mos = yrs * 12\n",
    "    \n",
    "    TOTAL = 0\n",
    "    print(f'${mo_deposit}/mo deposited, x {yrs} Years, @ {round(r * 100,2)}% (monthly)\\n')\n",
    "    for i in range(mos):\n",
    "        months_rem = mos - i\n",
    "        at_end = mo_deposit * ( (1 + (r)) ** months_rem)\n",
    "        \n",
    "        TOTAL += at_end\n",
    "        \n",
    "        if i % 10 == 0: print(f'{i} Months in -- Months of Interest (remaining): {months_rem} --- This deposit value at End Date {at_end :n}')\n",
    "        \n",
    "    print('\\n ------------------ Totals -------------------- \\n')\n",
    "    print(f'Total Value Invested:  ${mos * mo_deposit :n}')\n",
    "    print(f'Total Value Projected: ${round(TOTAL,2)}')\n",
    "    print(f'Total Profit / Loss:   ${TOTAL - (mos * mo_deposit)}')\n",
    "    return TOTAL\n",
    "        \n",
    "CryptoEWProjections(2000)"
   ]
  }
 ],
 "metadata": {
  "kernelspec": {
   "display_name": "Python 3",
   "language": "python",
   "name": "python3"
  },
  "language_info": {
   "codemirror_mode": {
    "name": "ipython",
    "version": 3
   },
   "file_extension": ".py",
   "mimetype": "text/x-python",
   "name": "python",
   "nbconvert_exporter": "python",
   "pygments_lexer": "ipython3",
   "version": "3.7.6"
  }
 },
 "nbformat": 4,
 "nbformat_minor": 4
}
