{
 "cells": [
  {
   "cell_type": "code",
   "execution_count": 1,
   "metadata": {},
   "outputs": [
    {
     "name": "stdout",
     "output_type": "stream",
     "text": [
      "[*********************100%***********************]  4 of 4 completed\n"
     ]
    }
   ],
   "source": [
    "import yfinance as yf\n",
    "\n",
    "df = yf.download(['btc-usd',\n",
    "             'bch-usd',\n",
    "             'ltc-usd',\n",
    "             'eth-usd'\n",
    "            ])"
   ]
  },
  {
   "cell_type": "code",
   "execution_count": 4,
   "metadata": {},
   "outputs": [
    {
     "data": {
      "text/html": [
       "<div>\n",
       "<style scoped>\n",
       "    .dataframe tbody tr th:only-of-type {\n",
       "        vertical-align: middle;\n",
       "    }\n",
       "\n",
       "    .dataframe tbody tr th {\n",
       "        vertical-align: top;\n",
       "    }\n",
       "\n",
       "    .dataframe thead th {\n",
       "        text-align: right;\n",
       "    }\n",
       "</style>\n",
       "<table border=\"1\" class=\"dataframe\">\n",
       "  <thead>\n",
       "    <tr style=\"text-align: right;\">\n",
       "      <th></th>\n",
       "      <th>BCH-USD</th>\n",
       "      <th>BTC-USD</th>\n",
       "      <th>ETH-USD</th>\n",
       "      <th>LTC-USD</th>\n",
       "    </tr>\n",
       "    <tr>\n",
       "      <th>Date</th>\n",
       "      <th></th>\n",
       "      <th></th>\n",
       "      <th></th>\n",
       "      <th></th>\n",
       "    </tr>\n",
       "  </thead>\n",
       "  <tbody>\n",
       "    <tr>\n",
       "      <th>2017-07-23</th>\n",
       "      <td>NaN</td>\n",
       "      <td>NaN</td>\n",
       "      <td>NaN</td>\n",
       "      <td>NaN</td>\n",
       "    </tr>\n",
       "    <tr>\n",
       "      <th>2017-07-24</th>\n",
       "      <td>0.066918</td>\n",
       "      <td>0.008958</td>\n",
       "      <td>-0.005488</td>\n",
       "      <td>0.007935</td>\n",
       "    </tr>\n",
       "    <tr>\n",
       "      <th>2017-07-25</th>\n",
       "      <td>-0.014920</td>\n",
       "      <td>-0.056373</td>\n",
       "      <td>-0.085156</td>\n",
       "      <td>-0.041189</td>\n",
       "    </tr>\n",
       "    <tr>\n",
       "      <th>2017-07-26</th>\n",
       "      <td>-0.114376</td>\n",
       "      <td>-0.073597</td>\n",
       "      <td>-0.097357</td>\n",
       "      <td>-0.041452</td>\n",
       "    </tr>\n",
       "    <tr>\n",
       "      <th>2017-07-27</th>\n",
       "      <td>-0.066772</td>\n",
       "      <td>-0.021469</td>\n",
       "      <td>-0.095742</td>\n",
       "      <td>-0.043492</td>\n",
       "    </tr>\n",
       "    <tr>\n",
       "      <th>...</th>\n",
       "      <td>...</td>\n",
       "      <td>...</td>\n",
       "      <td>...</td>\n",
       "      <td>...</td>\n",
       "    </tr>\n",
       "    <tr>\n",
       "      <th>2021-11-16</th>\n",
       "      <td>0.451373</td>\n",
       "      <td>21.033859</td>\n",
       "      <td>17.660529</td>\n",
       "      <td>4.234246</td>\n",
       "    </tr>\n",
       "    <tr>\n",
       "      <th>2021-11-17</th>\n",
       "      <td>0.441841</td>\n",
       "      <td>21.109586</td>\n",
       "      <td>17.975768</td>\n",
       "      <td>4.209384</td>\n",
       "    </tr>\n",
       "    <tr>\n",
       "      <th>2021-11-18</th>\n",
       "      <td>0.343161</td>\n",
       "      <td>19.854871</td>\n",
       "      <td>16.705834</td>\n",
       "      <td>3.640080</td>\n",
       "    </tr>\n",
       "    <tr>\n",
       "      <th>2021-11-19</th>\n",
       "      <td>0.393505</td>\n",
       "      <td>20.286105</td>\n",
       "      <td>18.023180</td>\n",
       "      <td>3.951404</td>\n",
       "    </tr>\n",
       "    <tr>\n",
       "      <th>2021-11-20</th>\n",
       "      <td>0.399703</td>\n",
       "      <td>20.426153</td>\n",
       "      <td>17.927080</td>\n",
       "      <td>4.003325</td>\n",
       "    </tr>\n",
       "  </tbody>\n",
       "</table>\n",
       "<p>1578 rows × 4 columns</p>\n",
       "</div>"
      ],
      "text/plain": [
       "             BCH-USD    BTC-USD    ETH-USD   LTC-USD\n",
       "Date                                                \n",
       "2017-07-23       NaN        NaN        NaN       NaN\n",
       "2017-07-24  0.066918   0.008958  -0.005488  0.007935\n",
       "2017-07-25 -0.014920  -0.056373  -0.085156 -0.041189\n",
       "2017-07-26 -0.114376  -0.073597  -0.097357 -0.041452\n",
       "2017-07-27 -0.066772  -0.021469  -0.095742 -0.043492\n",
       "...              ...        ...        ...       ...\n",
       "2021-11-16  0.451373  21.033859  17.660529  4.234246\n",
       "2021-11-17  0.441841  21.109586  17.975768  4.209384\n",
       "2021-11-18  0.343161  19.854871  16.705834  3.640080\n",
       "2021-11-19  0.393505  20.286105  18.023180  3.951404\n",
       "2021-11-20  0.399703  20.426153  17.927080  4.003325\n",
       "\n",
       "[1578 rows x 4 columns]"
      ]
     },
     "execution_count": 4,
     "metadata": {},
     "output_type": "execute_result"
    }
   ],
   "source": [
    "closes = df['Adj Close'].dropna()\n",
    "\n",
    "pcts = closes.pct_change()\n",
    "pcts = (1 + pcts).cumprod() - 1\n",
    "pcts"
   ]
  },
  {
   "cell_type": "code",
   "execution_count": 7,
   "metadata": {},
   "outputs": [
    {
     "data": {
      "text/plain": [
       "array([ 0.39970314, 20.42615255, 17.9270802 ,  4.00332479])"
      ]
     },
     "execution_count": 7,
     "metadata": {},
     "output_type": "execute_result"
    }
   ],
   "source": [
    "old = closes.values[0]\n",
    "new = closes.values[-1]\n",
    "\n",
    "returns = (new - old) / old\n",
    "returns"
   ]
  },
  {
   "cell_type": "code",
   "execution_count": 9,
   "metadata": {},
   "outputs": [
    {
     "data": {
      "text/plain": [
       "1068.9065171606408"
      ]
     },
     "execution_count": 9,
     "metadata": {},
     "output_type": "execute_result"
    }
   ],
   "source": [
    "total_return_pct = returns.dot(.25).sum() * 100\n",
    "total_return_pct"
   ]
  },
  {
   "cell_type": "code",
   "execution_count": 17,
   "metadata": {},
   "outputs": [],
   "source": [
    "import datetime as dt\n",
    "\n",
    "duration = (dt.datetime.now() - dt.datetime(2017,7,23,0,0,0,0))\n",
    "days = duration.days"
   ]
  },
  {
   "cell_type": "code",
   "execution_count": 19,
   "metadata": {},
   "outputs": [
    {
     "name": "stdout",
     "output_type": "stream",
     "text": [
      "Crypto Index -- Annualized returns 246.93%\n"
     ]
    }
   ],
   "source": [
    "dur_days = (dt.datetime.now() - closes.index[0]).days #More precise...\n",
    "ann_return = total_return_pct / (days / 365)\n",
    "print(f'Crypto Index -- Annualized returns {round(ann_return,2)}%')"
   ]
  },
  {
   "cell_type": "code",
   "execution_count": 81,
   "metadata": {},
   "outputs": [],
   "source": [
    "pct = pcts.apply(lambda x: x.sum(), axis=1).dropna()"
   ]
  },
  {
   "cell_type": "code",
   "execution_count": 33,
   "metadata": {},
   "outputs": [
    {
     "data": {
      "text/plain": [
       "Date\n",
       "2017-07-24     0.078323\n",
       "2017-07-25    -0.197637\n",
       "2017-07-26    -0.326782\n",
       "2017-07-27    -0.227476\n",
       "2017-07-28    -0.211590\n",
       "                ...    \n",
       "2021-11-16    43.380006\n",
       "2021-11-17    43.736579\n",
       "2021-11-18    40.543945\n",
       "2021-11-19    42.654194\n",
       "2021-11-20    42.756261\n",
       "Length: 1577, dtype: float64"
      ]
     },
     "execution_count": 33,
     "metadata": {},
     "output_type": "execute_result"
    }
   ],
   "source": [
    "pcts = pcts.dropna()\n",
    "total_return = pcts['BCH-USD'] + pcts['BTC-USD'] + pcts['ETH-USD'] + pcts['LTC-USD']\n",
    "total_return"
   ]
  },
  {
   "cell_type": "code",
   "execution_count": 36,
   "metadata": {},
   "outputs": [],
   "source": [
    "return_curve = pcts.apply(lambda x: x.mean(), axis=1)"
   ]
  },
  {
   "cell_type": "code",
   "execution_count": 39,
   "metadata": {},
   "outputs": [],
   "source": [
    "return_100k = return_curve * 100000"
   ]
  },
  {
   "cell_type": "code",
   "execution_count": 41,
   "metadata": {},
   "outputs": [
    {
     "data": {
      "text/plain": [
       "<matplotlib.axes._subplots.AxesSubplot at 0x241dfb3ee48>"
      ]
     },
     "execution_count": 41,
     "metadata": {},
     "output_type": "execute_result"
    },
    {
     "data": {
      "image/png": "[encoded data removed]",
      "text/plain": [
       "<Figure size 432x288 with 1 Axes>"
      ]
     },
     "metadata": {
      "needs_background": "light"
     },
     "output_type": "display_data"
    }
   ],
   "source": [
    "return_100k.plot()"
   ]
  },
  {
   "cell_type": "code",
   "execution_count": 47,
   "metadata": {},
   "outputs": [],
   "source": [
    "### PLOT the DCA version !T\n",
    "# http://www.samansari.info/2016/01/lump-sum-vs-dollar-cost-averaging-dca.html\n",
    "## Break down by month... so 12 * years, or 4 -- 48 months.\n",
    "thousand_per_month = 100 / 52"
   ]
  },
  {
   "cell_type": "code",
   "execution_count": 48,
   "metadata": {},
   "outputs": [
    {
     "data": {
      "text/plain": [
       "\"\\ndef doDCA(investment, start_date):\\n    # Get 12 investment dates in 30 day increments starting from start date\\n    investment_dates_all = pd.date_range(start_date,periods=12,freq='30D')\\n    # Remove those dates beyond our known data range\\n    investment_dates = investment_dates_all[investment_dates_all < end]\\n\\n    # Get closest business dates with available data\\n    closest_investment_dates = spy.index.searchsorted(investment_dates)\\n\\n    # How much to invest on each date\\n    portion = investment/12\\n\\n    # Get the total of all stocks purchased for each of those dates (on the Close)\\n    stocks_invested = sum(portion / spy.Close[closest_investment_dates])\\n\\n    # Add uninvested amount back\\n    uninvested_dollars = portion * sum(investment_dates_all >= end)\\n\\n    # value of stocks today\\n    total_value = value_price*stocks_invested + uninvested_dollars\\n    return total_value\\n\""
      ]
     },
     "execution_count": 48,
     "metadata": {},
     "output_type": "execute_result"
    }
   ],
   "source": [
    "## 52 months of DCA\n",
    "'''\n",
    "def doDCA(investment, start_date):\n",
    "    # Get 12 investment dates in 30 day increments starting from start date\n",
    "    investment_dates_all = pd.date_range(start_date,periods=12,freq='30D')\n",
    "    # Remove those dates beyond our known data range\n",
    "    investment_dates = investment_dates_all[investment_dates_all < end]\n",
    "\n",
    "    # Get closest business dates with available data\n",
    "    closest_investment_dates = spy.index.searchsorted(investment_dates)\n",
    "\n",
    "    # How much to invest on each date\n",
    "    portion = investment/12\n",
    "\n",
    "    # Get the total of all stocks purchased for each of those dates (on the Close)\n",
    "    stocks_invested = sum(portion / spy.Close[closest_investment_dates])\n",
    "\n",
    "    # Add uninvested amount back\n",
    "    uninvested_dollars = portion * sum(investment_dates_all >= end)\n",
    "\n",
    "    # value of stocks today\n",
    "    total_value = value_price*stocks_invested + uninvested_dollars\n",
    "    return total_value\n",
    "'''"
   ]
  },
  {
   "cell_type": "code",
   "execution_count": null,
   "metadata": {},
   "outputs": [],
   "source": [
    "def doDCA(investment, start_date):\n",
    "    # Get 12 investment dates in 30 day increments starting from start date\n",
    "    investment_dates_all = pd.date_range(start_date,periods=52,freq='30D')\n",
    "    # Remove those dates beyond our known data range\n",
    "    investment_dates = investment_dates_all[investment_dates_all < end]\n",
    "\n",
    "    # Get closest business dates with available data\n",
    "    closest_investment_dates = spy.index.searchsorted(investment_dates)\n",
    "\n",
    "    # How much to invest on each date\n",
    "    portion = investment/12\n",
    "\n",
    "    # Get the total of all stocks purchased for each of those dates (on the Close)\n",
    "    stocks_invested = sum(portion / spy.Close[closest_investment_dates])\n",
    "\n",
    "    # Add uninvested amount back\n",
    "    uninvested_dollars = portion * sum(investment_dates_all >= end)\n",
    "\n",
    "    # value of stocks today\n",
    "    total_value = value_price*stocks_invested + uninvested_dollars\n",
    "    return total_value\n",
    "\n",
    "# Generate DCA series for every possible date\n",
    "dca = pd.Series(spy.index.map(lambda x: doDCA(initial_investment, x)), index=spy.index, name='Dollar Cost Averaging (DCA)')"
   ]
  },
  {
   "cell_type": "code",
   "execution_count": 109,
   "metadata": {},
   "outputs": [
    {
     "name": "stdout",
     "output_type": "stream",
     "text": [
      "Investment date, adding 1923.076923076923 to alloc -- Total: 3846.153846153846\n",
      "Investment date, adding 1923.076923076923 to alloc -- Total: 5769.2307692307695\n",
      "Investment date, adding 1923.076923076923 to alloc -- Total: 7692.307692307692\n",
      "Investment date, adding 1923.076923076923 to alloc -- Total: 9615.384615384615\n",
      "Investment date, adding 1923.076923076923 to alloc -- Total: 11538.461538461539\n",
      "Investment date, adding 1923.076923076923 to alloc -- Total: 13461.538461538463\n",
      "Investment date, adding 1923.076923076923 to alloc -- Total: 15384.615384615387\n",
      "Investment date, adding 1923.076923076923 to alloc -- Total: 17307.69230769231\n",
      "Investment date, adding 1923.076923076923 to alloc -- Total: 19230.76923076923\n",
      "Investment date, adding 1923.076923076923 to alloc -- Total: 21153.846153846152\n",
      "Investment date, adding 1923.076923076923 to alloc -- Total: 23076.923076923074\n",
      "Investment date, adding 1923.076923076923 to alloc -- Total: 24999.999999999996\n",
      "Investment date, adding 1923.076923076923 to alloc -- Total: 26923.07692307692\n",
      "Investment date, adding 1923.076923076923 to alloc -- Total: 28846.15384615384\n",
      "Investment date, adding 1923.076923076923 to alloc -- Total: 30769.230769230762\n",
      "Investment date, adding 1923.076923076923 to alloc -- Total: 32692.307692307684\n",
      "Investment date, adding 1923.076923076923 to alloc -- Total: 34615.38461538461\n",
      "Investment date, adding 1923.076923076923 to alloc -- Total: 36538.46153846153\n",
      "Investment date, adding 1923.076923076923 to alloc -- Total: 38461.538461538454\n",
      "Investment date, adding 1923.076923076923 to alloc -- Total: 40384.615384615376\n",
      "Investment date, adding 1923.076923076923 to alloc -- Total: 42307.6923076923\n",
      "Investment date, adding 1923.076923076923 to alloc -- Total: 44230.76923076922\n",
      "Investment date, adding 1923.076923076923 to alloc -- Total: 46153.84615384614\n",
      "Investment date, adding 1923.076923076923 to alloc -- Total: 48076.92307692306\n",
      "Investment date, adding 1923.076923076923 to alloc -- Total: 49999.999999999985\n",
      "Investment date, adding 1923.076923076923 to alloc -- Total: 51923.07692307691\n",
      "Investment date, adding 1923.076923076923 to alloc -- Total: 53846.15384615383\n",
      "Investment date, adding 1923.076923076923 to alloc -- Total: 55769.23076923075\n",
      "Investment date, adding 1923.076923076923 to alloc -- Total: 57692.30769230767\n",
      "Investment date, adding 1923.076923076923 to alloc -- Total: 59615.384615384595\n",
      "Investment date, adding 1923.076923076923 to alloc -- Total: 61538.46153846152\n",
      "Investment date, adding 1923.076923076923 to alloc -- Total: 63461.53846153844\n",
      "Investment date, adding 1923.076923076923 to alloc -- Total: 65384.61538461536\n",
      "Investment date, adding 1923.076923076923 to alloc -- Total: 67307.69230769228\n",
      "Investment date, adding 1923.076923076923 to alloc -- Total: 69230.7692307692\n",
      "Investment date, adding 1923.076923076923 to alloc -- Total: 71153.84615384613\n",
      "Investment date, adding 1923.076923076923 to alloc -- Total: 73076.92307692305\n",
      "Investment date, adding 1923.076923076923 to alloc -- Total: 74999.99999999997\n",
      "Investment date, adding 1923.076923076923 to alloc -- Total: 76923.0769230769\n",
      "Investment date, adding 1923.076923076923 to alloc -- Total: 78846.15384615381\n",
      "Investment date, adding 1923.076923076923 to alloc -- Total: 80769.23076923074\n",
      "Investment date, adding 1923.076923076923 to alloc -- Total: 82692.30769230766\n",
      "Investment date, adding 1923.076923076923 to alloc -- Total: 84615.38461538458\n",
      "Investment date, adding 1923.076923076923 to alloc -- Total: 86538.4615384615\n",
      "Investment date, adding 1923.076923076923 to alloc -- Total: 88461.53846153842\n",
      "Investment date, adding 1923.076923076923 to alloc -- Total: 90384.61538461535\n",
      "Investment date, adding 1923.076923076923 to alloc -- Total: 92307.69230769227\n",
      "Investment date, adding 1923.076923076923 to alloc -- Total: 94230.76923076919\n",
      "Investment date, adding 1923.076923076923 to alloc -- Total: 96153.84615384611\n",
      "Investment date, adding 1923.076923076923 to alloc -- Total: 98076.92307692303\n",
      "Investment date, adding 1923.076923076923 to alloc -- Total: 99999.99999999996\n"
     ]
    }
   ],
   "source": [
    "import pandas as pd\n",
    "start_date = closes.index[0]\n",
    "pd.date_range(start_date,periods=52,freq='30D')\n",
    "\n",
    "inv_dates = pd.date_range(start_date,periods=52,freq='30D')\n",
    "\n",
    "portion = 100000 / 52\n",
    "\n",
    "\n",
    "\n",
    "## USE total_return here, not pcts...\n",
    "#START with initial amount invested...\n",
    "inv = []\n",
    "alloc = portion\n",
    "for i in pcts.itertuples():\n",
    "    #print(i.Index in inv_dates)\n",
    "    \n",
    "    \n",
    "    ## SAVE prior dates return, to date ? \n",
    "    \n",
    "    if i.Index in inv_dates:\n",
    "        alloc = alloc + portion\n",
    "        print(f'Investment date, adding {portion} to alloc -- Total: {alloc}')\n",
    "        \n",
    "        \n",
    "        \n",
    "        ##MULTIPLY here... make a fractal calc. At each step, calculate the PRIOR periods return to that moment...\n",
    "        ## THIS is cumulative return, so to THAT moment, the return is new - old / old * prior inv amount (NOT the next inv amount)\n",
    "        \n",
    "    inv.append(alloc)"
   ]
  },
  {
   "cell_type": "code",
   "execution_count": null,
   "metadata": {},
   "outputs": [],
   "source": []
  },
  {
   "cell_type": "code",
   "execution_count": 75,
   "metadata": {},
   "outputs": [],
   "source": [
    "DCA = pd.DataFrame({'return':total_return.values, 'invested':inv}) #WITH CumProd, this is wrong...\n",
    "\n",
    "#dca = pd.DataFrame({'ret':pcts.values, 'inv':inv})"
   ]
  },
  {
   "cell_type": "code",
   "execution_count": 110,
   "metadata": {},
   "outputs": [
    {
     "data": {
      "text/html": [
       "<div>\n",
       "<style scoped>\n",
       "    .dataframe tbody tr th:only-of-type {\n",
       "        vertical-align: middle;\n",
       "    }\n",
       "\n",
       "    .dataframe tbody tr th {\n",
       "        vertical-align: top;\n",
       "    }\n",
       "\n",
       "    .dataframe thead th {\n",
       "        text-align: right;\n",
       "    }\n",
       "</style>\n",
       "<table border=\"1\" class=\"dataframe\">\n",
       "  <thead>\n",
       "    <tr style=\"text-align: right;\">\n",
       "      <th></th>\n",
       "      <th>BCH-USD</th>\n",
       "      <th>BTC-USD</th>\n",
       "      <th>ETH-USD</th>\n",
       "      <th>LTC-USD</th>\n",
       "    </tr>\n",
       "    <tr>\n",
       "      <th>Date</th>\n",
       "      <th></th>\n",
       "      <th></th>\n",
       "      <th></th>\n",
       "      <th></th>\n",
       "    </tr>\n",
       "  </thead>\n",
       "  <tbody>\n",
       "    <tr>\n",
       "      <th>2017-07-24</th>\n",
       "      <td>0.066918</td>\n",
       "      <td>0.008958</td>\n",
       "      <td>-0.005488</td>\n",
       "      <td>0.007935</td>\n",
       "    </tr>\n",
       "    <tr>\n",
       "      <th>2017-07-25</th>\n",
       "      <td>-0.014920</td>\n",
       "      <td>-0.056373</td>\n",
       "      <td>-0.085156</td>\n",
       "      <td>-0.041189</td>\n",
       "    </tr>\n",
       "    <tr>\n",
       "      <th>2017-07-26</th>\n",
       "      <td>-0.114376</td>\n",
       "      <td>-0.073597</td>\n",
       "      <td>-0.097357</td>\n",
       "      <td>-0.041452</td>\n",
       "    </tr>\n",
       "    <tr>\n",
       "      <th>2017-07-27</th>\n",
       "      <td>-0.066772</td>\n",
       "      <td>-0.021469</td>\n",
       "      <td>-0.095742</td>\n",
       "      <td>-0.043492</td>\n",
       "    </tr>\n",
       "    <tr>\n",
       "      <th>2017-07-28</th>\n",
       "      <td>-0.016981</td>\n",
       "      <td>0.028791</td>\n",
       "      <td>-0.145288</td>\n",
       "      <td>-0.078112</td>\n",
       "    </tr>\n",
       "    <tr>\n",
       "      <th>...</th>\n",
       "      <td>...</td>\n",
       "      <td>...</td>\n",
       "      <td>...</td>\n",
       "      <td>...</td>\n",
       "    </tr>\n",
       "    <tr>\n",
       "      <th>2021-11-16</th>\n",
       "      <td>0.451373</td>\n",
       "      <td>21.033859</td>\n",
       "      <td>17.660529</td>\n",
       "      <td>4.234246</td>\n",
       "    </tr>\n",
       "    <tr>\n",
       "      <th>2021-11-17</th>\n",
       "      <td>0.441841</td>\n",
       "      <td>21.109586</td>\n",
       "      <td>17.975768</td>\n",
       "      <td>4.209384</td>\n",
       "    </tr>\n",
       "    <tr>\n",
       "      <th>2021-11-18</th>\n",
       "      <td>0.343161</td>\n",
       "      <td>19.854871</td>\n",
       "      <td>16.705834</td>\n",
       "      <td>3.640080</td>\n",
       "    </tr>\n",
       "    <tr>\n",
       "      <th>2021-11-19</th>\n",
       "      <td>0.393505</td>\n",
       "      <td>20.286105</td>\n",
       "      <td>18.023180</td>\n",
       "      <td>3.951404</td>\n",
       "    </tr>\n",
       "    <tr>\n",
       "      <th>2021-11-20</th>\n",
       "      <td>0.399703</td>\n",
       "      <td>20.426153</td>\n",
       "      <td>17.927080</td>\n",
       "      <td>4.003325</td>\n",
       "    </tr>\n",
       "  </tbody>\n",
       "</table>\n",
       "<p>1577 rows × 4 columns</p>\n",
       "</div>"
      ],
      "text/plain": [
       "             BCH-USD    BTC-USD    ETH-USD   LTC-USD\n",
       "Date                                                \n",
       "2017-07-24  0.066918   0.008958  -0.005488  0.007935\n",
       "2017-07-25 -0.014920  -0.056373  -0.085156 -0.041189\n",
       "2017-07-26 -0.114376  -0.073597  -0.097357 -0.041452\n",
       "2017-07-27 -0.066772  -0.021469  -0.095742 -0.043492\n",
       "2017-07-28 -0.016981   0.028791  -0.145288 -0.078112\n",
       "...              ...        ...        ...       ...\n",
       "2021-11-16  0.451373  21.033859  17.660529  4.234246\n",
       "2021-11-17  0.441841  21.109586  17.975768  4.209384\n",
       "2021-11-18  0.343161  19.854871  16.705834  3.640080\n",
       "2021-11-19  0.393505  20.286105  18.023180  3.951404\n",
       "2021-11-20  0.399703  20.426153  17.927080  4.003325\n",
       "\n",
       "[1577 rows x 4 columns]"
      ]
     },
     "execution_count": 110,
     "metadata": {},
     "output_type": "execute_result"
    }
   ],
   "source": [
    "### USE true pct_change (sum) ------------- THIS is doable here, cant think of HOW though. cumsum? \n",
    "pcts"
   ]
  },
  {
   "cell_type": "code",
   "execution_count": 71,
   "metadata": {},
   "outputs": [
    {
     "data": {
      "text/html": [
       "<div>\n",
       "<style scoped>\n",
       "    .dataframe tbody tr th:only-of-type {\n",
       "        vertical-align: middle;\n",
       "    }\n",
       "\n",
       "    .dataframe tbody tr th {\n",
       "        vertical-align: top;\n",
       "    }\n",
       "\n",
       "    .dataframe thead th {\n",
       "        text-align: right;\n",
       "    }\n",
       "</style>\n",
       "<table border=\"1\" class=\"dataframe\">\n",
       "  <thead>\n",
       "    <tr style=\"text-align: right;\">\n",
       "      <th></th>\n",
       "      <th>return</th>\n",
       "      <th>invested</th>\n",
       "      <th>USD_Return</th>\n",
       "    </tr>\n",
       "  </thead>\n",
       "  <tbody>\n",
       "    <tr>\n",
       "      <th>0</th>\n",
       "      <td>0.078323</td>\n",
       "      <td>1923.076923</td>\n",
       "      <td>1.506221e+02</td>\n",
       "    </tr>\n",
       "    <tr>\n",
       "      <th>1</th>\n",
       "      <td>-0.197637</td>\n",
       "      <td>1923.076923</td>\n",
       "      <td>-3.800716e+02</td>\n",
       "    </tr>\n",
       "    <tr>\n",
       "      <th>2</th>\n",
       "      <td>-0.326782</td>\n",
       "      <td>1923.076923</td>\n",
       "      <td>-6.284273e+02</td>\n",
       "    </tr>\n",
       "    <tr>\n",
       "      <th>3</th>\n",
       "      <td>-0.227476</td>\n",
       "      <td>1923.076923</td>\n",
       "      <td>-4.374542e+02</td>\n",
       "    </tr>\n",
       "    <tr>\n",
       "      <th>4</th>\n",
       "      <td>-0.211590</td>\n",
       "      <td>1923.076923</td>\n",
       "      <td>-4.069042e+02</td>\n",
       "    </tr>\n",
       "    <tr>\n",
       "      <th>...</th>\n",
       "      <td>...</td>\n",
       "      <td>...</td>\n",
       "      <td>...</td>\n",
       "    </tr>\n",
       "    <tr>\n",
       "      <th>1572</th>\n",
       "      <td>43.380006</td>\n",
       "      <td>100000.000000</td>\n",
       "      <td>4.338001e+06</td>\n",
       "    </tr>\n",
       "    <tr>\n",
       "      <th>1573</th>\n",
       "      <td>43.736579</td>\n",
       "      <td>100000.000000</td>\n",
       "      <td>4.373658e+06</td>\n",
       "    </tr>\n",
       "    <tr>\n",
       "      <th>1574</th>\n",
       "      <td>40.543945</td>\n",
       "      <td>100000.000000</td>\n",
       "      <td>4.054395e+06</td>\n",
       "    </tr>\n",
       "    <tr>\n",
       "      <th>1575</th>\n",
       "      <td>42.654194</td>\n",
       "      <td>100000.000000</td>\n",
       "      <td>4.265419e+06</td>\n",
       "    </tr>\n",
       "    <tr>\n",
       "      <th>1576</th>\n",
       "      <td>42.756261</td>\n",
       "      <td>100000.000000</td>\n",
       "      <td>4.275626e+06</td>\n",
       "    </tr>\n",
       "  </tbody>\n",
       "</table>\n",
       "<p>1577 rows × 3 columns</p>\n",
       "</div>"
      ],
      "text/plain": [
       "         return       invested    USD_Return\n",
       "0      0.078323    1923.076923  1.506221e+02\n",
       "1     -0.197637    1923.076923 -3.800716e+02\n",
       "2     -0.326782    1923.076923 -6.284273e+02\n",
       "3     -0.227476    1923.076923 -4.374542e+02\n",
       "4     -0.211590    1923.076923 -4.069042e+02\n",
       "...         ...            ...           ...\n",
       "1572  43.380006  100000.000000  4.338001e+06\n",
       "1573  43.736579  100000.000000  4.373658e+06\n",
       "1574  40.543945  100000.000000  4.054395e+06\n",
       "1575  42.654194  100000.000000  4.265419e+06\n",
       "1576  42.756261  100000.000000  4.275626e+06\n",
       "\n",
       "[1577 rows x 3 columns]"
      ]
     },
     "execution_count": 71,
     "metadata": {},
     "output_type": "execute_result"
    }
   ],
   "source": [
    "DCA['USD_Return'] = DCA['return'] * DCA.invested\n",
    "DCA"
   ]
  },
  {
   "cell_type": "code",
   "execution_count": 79,
   "metadata": {},
   "outputs": [
    {
     "data": {
      "text/plain": [
       "Date\n",
       "2017-07-24     0.078323\n",
       "2017-07-25    -0.197637\n",
       "2017-07-26    -0.326782\n",
       "2017-07-27    -0.227476\n",
       "2017-07-28    -0.211590\n",
       "                ...    \n",
       "2021-11-16    43.380006\n",
       "2021-11-17    43.736579\n",
       "2021-11-18    40.543945\n",
       "2021-11-19    42.654194\n",
       "2021-11-20    42.756261\n",
       "Length: 1577, dtype: float64"
      ]
     },
     "execution_count": 79,
     "metadata": {},
     "output_type": "execute_result"
    }
   ],
   "source": [
    "pcts.apply(lambda x: x.sum(), axis=1)"
   ]
  },
  {
   "cell_type": "code",
   "execution_count": 82,
   "metadata": {},
   "outputs": [
    {
     "data": {
      "text/plain": [
       "Date\n",
       "2017-07-24     0.078323\n",
       "2017-07-25    -0.197637\n",
       "2017-07-26    -0.326782\n",
       "2017-07-27    -0.227476\n",
       "2017-07-28    -0.211590\n",
       "                ...    \n",
       "2021-11-16    43.380006\n",
       "2021-11-17    43.736579\n",
       "2021-11-18    40.543945\n",
       "2021-11-19    42.654194\n",
       "2021-11-20    42.756261\n",
       "Length: 1577, dtype: float64"
      ]
     },
     "execution_count": 82,
     "metadata": {},
     "output_type": "execute_result"
    }
   ],
   "source": [
    "inv = []\n",
    "alloc = portion\n",
    "for i in pcts.itertuples():\n",
    "    #print(i.Index in inv_dates)\n",
    "    \n",
    "    \n",
    "    ## SAVE prior dates return, to date ? \n",
    "    \n",
    "    if i.Index in inv_dates:\n",
    "        alloc = alloc + portion\n",
    "        print(f'Investment date, adding {portion} to alloc -- Total: {alloc}')\n",
    "        \n",
    "        \n",
    "        #IF date to UPGRADE inv amount... take prior 30 day return, (current value, - value 30 back...) * the alloc value.\n",
    "        #frac_ret = \n",
    "        ##MULTIPLY here... make a fractal calc. At each step, calculate the PRIOR periods return to that moment...\n",
    "        ## THIS is cumulative return, so to THAT moment, the return is new - old / old * prior inv amount (NOT the next inv amount)\n",
    "        \n",
    "    inv.append(alloc)"
   ]
  },
  {
   "cell_type": "code",
   "execution_count": 107,
   "metadata": {},
   "outputs": [],
   "source": [
    "import math\n",
    "\n",
    "p = pct.to_frame()\n",
    "p.columns = ['ret']\n",
    "p['prior'] = p.ret.shift(30)\n",
    "\n",
    "cum_ret = []\n",
    "alloc = portion\n",
    "\n",
    "for i in p.itertuples():\n",
    "    if i.Index in inv_dates:\n",
    "        \n",
    "        #Segment return is CURRENT (cum) return, less PRIOR return... (30 day back return) --- then multiply by allocation amount for USD return.\n",
    "        fract_ret = i.ret - i.prior if not math.isnan(i.prior) else i.ret\n",
    "        usd_ret = fract_ret * alloc\n",
    "        #print(fract_ret,i.prior)\n",
    "        cum_ret.append(usd_ret)\n",
    "        \n",
    "        #Upgrade the amount invested (by another chunk)\n",
    "        alloc += portion "
   ]
  },
  {
   "cell_type": "code",
   "execution_count": 117,
   "metadata": {},
   "outputs": [
    {
     "data": {
      "text/plain": [
       "2194953.931196289"
      ]
     },
     "execution_count": 117,
     "metadata": {},
     "output_type": "execute_result"
    }
   ],
   "source": [
    "cum_ret\n",
    "\n",
    "import numpy as np\n",
    "np.cumsum(cum_ret)[-1]\n"
   ]
  },
  {
   "cell_type": "code",
   "execution_count": 119,
   "metadata": {},
   "outputs": [
    {
     "data": {
      "text/plain": [
       "4275626.068642565"
      ]
     },
     "execution_count": 119,
     "metadata": {},
     "output_type": "execute_result"
    }
   ],
   "source": [
    "p.ret.values[-1] * 100000 #NOT DCA..."
   ]
  },
  {
   "cell_type": "code",
   "execution_count": 145,
   "metadata": {},
   "outputs": [
    {
     "data": {
      "text/html": [
       "<div>\n",
       "<style scoped>\n",
       "    .dataframe tbody tr th:only-of-type {\n",
       "        vertical-align: middle;\n",
       "    }\n",
       "\n",
       "    .dataframe tbody tr th {\n",
       "        vertical-align: top;\n",
       "    }\n",
       "\n",
       "    .dataframe thead th {\n",
       "        text-align: right;\n",
       "    }\n",
       "</style>\n",
       "<table border=\"1\" class=\"dataframe\">\n",
       "  <thead>\n",
       "    <tr style=\"text-align: right;\">\n",
       "      <th></th>\n",
       "      <th>day_returns</th>\n",
       "      <th>inv</th>\n",
       "      <th>dca_ret</th>\n",
       "      <th>base_ret</th>\n",
       "    </tr>\n",
       "    <tr>\n",
       "      <th>Date</th>\n",
       "      <th></th>\n",
       "      <th></th>\n",
       "      <th></th>\n",
       "      <th></th>\n",
       "    </tr>\n",
       "  </thead>\n",
       "  <tbody>\n",
       "    <tr>\n",
       "      <th>2017-07-24</th>\n",
       "      <td>0.078323</td>\n",
       "      <td>1923.076923</td>\n",
       "      <td>150.622066</td>\n",
       "      <td>7832.347422</td>\n",
       "    </tr>\n",
       "    <tr>\n",
       "      <th>2017-07-25</th>\n",
       "      <td>-0.270301</td>\n",
       "      <td>1923.076923</td>\n",
       "      <td>-519.808862</td>\n",
       "      <td>-27030.060803</td>\n",
       "    </tr>\n",
       "    <tr>\n",
       "      <th>2017-07-26</th>\n",
       "      <td>-0.132827</td>\n",
       "      <td>1923.076923</td>\n",
       "      <td>-255.437343</td>\n",
       "      <td>-13282.741819</td>\n",
       "    </tr>\n",
       "    <tr>\n",
       "      <th>2017-07-27</th>\n",
       "      <td>0.109681</td>\n",
       "      <td>1923.076923</td>\n",
       "      <td>210.925086</td>\n",
       "      <td>10968.104461</td>\n",
       "    </tr>\n",
       "    <tr>\n",
       "      <th>2017-07-28</th>\n",
       "      <td>0.013731</td>\n",
       "      <td>1923.076923</td>\n",
       "      <td>26.406354</td>\n",
       "      <td>1373.130403</td>\n",
       "    </tr>\n",
       "    <tr>\n",
       "      <th>...</th>\n",
       "      <td>...</td>\n",
       "      <td>...</td>\n",
       "      <td>...</td>\n",
       "      <td>...</td>\n",
       "    </tr>\n",
       "    <tr>\n",
       "      <th>2021-11-16</th>\n",
       "      <td>-0.350058</td>\n",
       "      <td>100000.000000</td>\n",
       "      <td>-35005.827927</td>\n",
       "      <td>-35005.827927</td>\n",
       "    </tr>\n",
       "    <tr>\n",
       "      <th>2021-11-17</th>\n",
       "      <td>0.009013</td>\n",
       "      <td>100000.000000</td>\n",
       "      <td>901.289345</td>\n",
       "      <td>901.289345</td>\n",
       "    </tr>\n",
       "    <tr>\n",
       "      <th>2021-11-18</th>\n",
       "      <td>-0.301398</td>\n",
       "      <td>100000.000000</td>\n",
       "      <td>-30139.836839</td>\n",
       "      <td>-30139.836839</td>\n",
       "    </tr>\n",
       "    <tr>\n",
       "      <th>2021-11-19</th>\n",
       "      <td>0.199656</td>\n",
       "      <td>100000.000000</td>\n",
       "      <td>19965.580037</td>\n",
       "      <td>19965.580037</td>\n",
       "    </tr>\n",
       "    <tr>\n",
       "      <th>2021-11-20</th>\n",
       "      <td>0.016462</td>\n",
       "      <td>100000.000000</td>\n",
       "      <td>1646.173263</td>\n",
       "      <td>1646.173263</td>\n",
       "    </tr>\n",
       "  </tbody>\n",
       "</table>\n",
       "<p>1577 rows × 4 columns</p>\n",
       "</div>"
      ],
      "text/plain": [
       "            day_returns            inv       dca_ret      base_ret\n",
       "Date                                                              \n",
       "2017-07-24     0.078323    1923.076923    150.622066   7832.347422\n",
       "2017-07-25    -0.270301    1923.076923   -519.808862 -27030.060803\n",
       "2017-07-26    -0.132827    1923.076923   -255.437343 -13282.741819\n",
       "2017-07-27     0.109681    1923.076923    210.925086  10968.104461\n",
       "2017-07-28     0.013731    1923.076923     26.406354   1373.130403\n",
       "...                 ...            ...           ...           ...\n",
       "2021-11-16    -0.350058  100000.000000 -35005.827927 -35005.827927\n",
       "2021-11-17     0.009013  100000.000000    901.289345    901.289345\n",
       "2021-11-18    -0.301398  100000.000000 -30139.836839 -30139.836839\n",
       "2021-11-19     0.199656  100000.000000  19965.580037  19965.580037\n",
       "2021-11-20     0.016462  100000.000000   1646.173263   1646.173263\n",
       "\n",
       "[1577 rows x 4 columns]"
      ]
     },
     "execution_count": 145,
     "metadata": {},
     "output_type": "execute_result"
    }
   ],
   "source": [
    "p.ret.values * inv\n",
    "\n",
    "\n",
    "base_pcts = closes.pct_change()\n",
    "base_pcts = base_pcts.dropna().apply(lambda x: x.sum(), axis=1)\n",
    "\n",
    "df = base_pcts.to_frame().rename(columns={0:'day_returns'})\n",
    "df['inv'] = inv\n",
    "df['dca_ret'] = df.inv * df.day_returns \n",
    "df['base_ret'] = df.day_returns * 100000\n",
    "df"
   ]
  },
  {
   "cell_type": "code",
   "execution_count": 152,
   "metadata": {},
   "outputs": [],
   "source": [
    "df['dca_total'] = df.dca_ret.cumsum()\n",
    "df['base_total'] = df.base_ret.cumsum()"
   ]
  },
  {
   "cell_type": "code",
   "execution_count": 155,
   "metadata": {},
   "outputs": [
    {
     "data": {
      "text/plain": [
       "<matplotlib.axes._subplots.AxesSubplot at 0x241e0e9f648>"
      ]
     },
     "execution_count": 155,
     "metadata": {},
     "output_type": "execute_result"
    },
    {
     "data": {
      "image/png": "[encoded data removed]",
      "text/plain": [
       "<Figure size 432x288 with 1 Axes>"
      ]
     },
     "metadata": {
      "needs_background": "light"
     },
     "output_type": "display_data"
    }
   ],
   "source": [
    "compared = df[['dca_total','base_total']]\n",
    "compared.plot()"
   ]
  },
  {
   "cell_type": "code",
   "execution_count": null,
   "metadata": {},
   "outputs": [],
   "source": []
  },
  {
   "cell_type": "markdown",
   "metadata": {},
   "source": [
    "## Build out a Calmar Ratio, or MDD -- thats where this will truly shine."
   ]
  },
  {
   "cell_type": "code",
   "execution_count": 172,
   "metadata": {},
   "outputs": [],
   "source": [
    "## TOTAL is CUMULATIVE\n",
    "df2 = df.rename(columns={'base_total':'base_cum', 'dca_total':'dca_cum'})"
   ]
  },
  {
   "cell_type": "code",
   "execution_count": 249,
   "metadata": {},
   "outputs": [
    {
     "name": "stderr",
     "output_type": "stream",
     "text": [
      "C:\\Users\\zach\\anaconda3\\lib\\site-packages\\ipykernel_launcher.py:2: SettingWithCopyWarning: \n",
      "A value is trying to be set on a copy of a slice from a DataFrame.\n",
      "Try using .loc[row_indexer,col_indexer] = value instead\n",
      "\n",
      "See the caveats in the documentation: https://pandas.pydata.org/pandas-docs/stable/user_guide/indexing.html#returning-a-view-versus-a-copy\n",
      "  \n",
      "C:\\Users\\zach\\anaconda3\\lib\\site-packages\\ipykernel_launcher.py:3: SettingWithCopyWarning: \n",
      "A value is trying to be set on a copy of a slice from a DataFrame.\n",
      "Try using .loc[row_indexer,col_indexer] = value instead\n",
      "\n",
      "See the caveats in the documentation: https://pandas.pydata.org/pandas-docs/stable/user_guide/indexing.html#returning-a-view-versus-a-copy\n",
      "  This is separate from the ipykernel package so we can avoid doing imports until\n",
      "C:\\Users\\zach\\anaconda3\\lib\\site-packages\\ipykernel_launcher.py:4: SettingWithCopyWarning: \n",
      "A value is trying to be set on a copy of a slice from a DataFrame.\n",
      "Try using .loc[row_indexer,col_indexer] = value instead\n",
      "\n",
      "See the caveats in the documentation: https://pandas.pydata.org/pandas-docs/stable/user_guide/indexing.html#returning-a-view-versus-a-copy\n",
      "  after removing the cwd from sys.path.\n"
     ]
    }
   ],
   "source": [
    "dca = df2[['dca_ret','dca_cum']]\n",
    "dca['max_so_far'] = dca.dca_cum.cummax()\n",
    "dca['DD'] = dca.dca_cum - dca.max_so_far\n",
    "dca['DD_pct'] = dca.DD / dca.dca_cum"
   ]
  },
  {
   "cell_type": "code",
   "execution_count": 250,
   "metadata": {},
   "outputs": [],
   "source": [
    "dca.loc[dca['DD'] == dca.DD.min()].index\n",
    "\n",
    "\n",
    "peak_at_mdd = dca.loc['2021-07-20'].max_so_far\n",
    "mdd_pct = dca.DD.min() / peak_at_mdd "
   ]
  },
  {
   "cell_type": "code",
   "execution_count": 253,
   "metadata": {},
   "outputs": [
    {
     "data": {
      "text/plain": [
       "-0.2813246587925867"
      ]
     },
     "execution_count": 253,
     "metadata": {},
     "output_type": "execute_result"
    }
   ],
   "source": [
    "dca['MDD_pct'] = dca.DD.min() / dca.max_so_far\n",
    "\n",
    "dca.MDD_pct\n",
    "\n",
    "dca_mdd = dca.MDD_pct.values[-1]\n",
    "dca_mdd"
   ]
  },
  {
   "cell_type": "code",
   "execution_count": 244,
   "metadata": {},
   "outputs": [
    {
     "name": "stderr",
     "output_type": "stream",
     "text": [
      "C:\\Users\\zach\\anaconda3\\lib\\site-packages\\ipykernel_launcher.py:4: SettingWithCopyWarning: \n",
      "A value is trying to be set on a copy of a slice from a DataFrame.\n",
      "Try using .loc[row_indexer,col_indexer] = value instead\n",
      "\n",
      "See the caveats in the documentation: https://pandas.pydata.org/pandas-docs/stable/user_guide/indexing.html#returning-a-view-versus-a-copy\n",
      "  after removing the cwd from sys.path.\n",
      "C:\\Users\\zach\\anaconda3\\lib\\site-packages\\ipykernel_launcher.py:5: SettingWithCopyWarning: \n",
      "A value is trying to be set on a copy of a slice from a DataFrame.\n",
      "Try using .loc[row_indexer,col_indexer] = value instead\n",
      "\n",
      "See the caveats in the documentation: https://pandas.pydata.org/pandas-docs/stable/user_guide/indexing.html#returning-a-view-versus-a-copy\n",
      "  \"\"\"\n",
      "C:\\Users\\zach\\anaconda3\\lib\\site-packages\\ipykernel_launcher.py:6: SettingWithCopyWarning: \n",
      "A value is trying to be set on a copy of a slice from a DataFrame.\n",
      "Try using .loc[row_indexer,col_indexer] = value instead\n",
      "\n",
      "See the caveats in the documentation: https://pandas.pydata.org/pandas-docs/stable/user_guide/indexing.html#returning-a-view-versus-a-copy\n",
      "  \n"
     ]
    }
   ],
   "source": [
    "## BASE mdd...\n",
    "\n",
    "bse = df2[['base_ret','base_cum']]\n",
    "bse['max_so_far'] = bse.base_cum.cummax()\n",
    "bse['DD'] = bse.base_cum - bse.max_so_far\n",
    "bse['MDD_pct'] = bse.DD.min() / bse.max_so_far\n",
    "base_mdd = bse.MDD_pct.values[-1]"
   ]
  },
  {
   "cell_type": "code",
   "execution_count": 257,
   "metadata": {},
   "outputs": [
    {
     "name": "stdout",
     "output_type": "stream",
     "text": [
      "MDD (DCA) -- -0.2813246587925867, MDD (Base) -0.4266313784684564 \n",
      "Using DCA -- Crypto has a lower DD than equities in the same period !!\n",
      "Using DCA improves drawdown by 0.34059079338584825%\n"
     ]
    }
   ],
   "source": [
    "print(f'MDD (DCA) -- {dca_mdd}, MDD (Base) {base_mdd} ')\n",
    "\n",
    "\n",
    "print('Using DCA -- Crypto has a lower DD than equities in the same period !!')\n",
    "print(f'Using DCA improves drawdown by {(base_mdd - dca_mdd) / base_mdd}% --- removing over 1/3 of the worst case drawdown!')"
   ]
  }
 ],
 "metadata": {
  "kernelspec": {
   "display_name": "Python 3",
   "language": "python",
   "name": "python3"
  },
  "language_info": {
   "codemirror_mode": {
    "name": "ipython",
    "version": 3
   },
   "file_extension": ".py",
   "mimetype": "text/x-python",
   "name": "python",
   "nbconvert_exporter": "python",
   "pygments_lexer": "ipython3",
   "version": "3.7.6"
  }
 },
 "nbformat": 4,
 "nbformat_minor": 4
}
