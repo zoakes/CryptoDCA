{
 "cells": [
  {
   "cell_type": "code",
   "execution_count": 11,
   "metadata": {},
   "outputs": [
    {
     "data": {
      "text/plain": [
       "0.002"
      ]
     },
     "execution_count": 11,
     "metadata": {},
     "output_type": "execute_result"
    }
   ],
   "source": [
    "trans_fee = .005\n",
    "ms_fee = (trans_fee - .001) * .5\n",
    "ms_fee"
   ]
  },
  {
   "cell_type": "code",
   "execution_count": 15,
   "metadata": {},
   "outputs": [
    {
     "data": {
      "text/plain": [
       "4690.0"
      ]
     },
     "execution_count": 15,
     "metadata": {},
     "output_type": "execute_result"
    }
   ],
   "source": [
    "## Annualized (per person) --- (Makes no difference if monthly, weekly, or annually -- given it's % based)\n",
    "\n",
    "med_income = 67000\n",
    "suggested_savings = med_income * .20\n",
    "\n",
    "suggested_crypto = suggested_savings * .35 ## INCLUDING our DCA risk profile, 1/3 is viable.\n",
    "suggested_crypto "
   ]
  },
  {
   "cell_type": "code",
   "execution_count": 18,
   "metadata": {},
   "outputs": [
    {
     "data": {
      "text/plain": [
       "75000.0"
      ]
     },
     "execution_count": 18,
     "metadata": {},
     "output_type": "execute_result"
    }
   ],
   "source": [
    "alpaca_users = 150000 #Likely low\n",
    "apc_crypto_mkt = alpaca_users * .5 # LOW\n",
    "\n",
    "apc_crypto_mkt"
   ]
  },
  {
   "cell_type": "code",
   "execution_count": 20,
   "metadata": {},
   "outputs": [
    {
     "data": {
      "text/plain": [
       "703500.0"
      ]
     },
     "execution_count": 20,
     "metadata": {},
     "output_type": "execute_result"
    }
   ],
   "source": [
    "apc_crypto_mkt * suggested_crypto * ms_fee"
   ]
  },
  {
   "cell_type": "code",
   "execution_count": 39,
   "metadata": {},
   "outputs": [
    {
     "data": {
      "text/plain": [
       "'100,000'"
      ]
     },
     "execution_count": 39,
     "metadata": {},
     "output_type": "execute_result"
    }
   ],
   "source": [
    "import locale\n",
    "locale.setlocale(locale.LC_ALL, '')\n",
    "\n",
    "value = 100000\n",
    "'{:n}'.format(value)  # For Python ≥2.7"
   ]
  },
  {
   "cell_type": "markdown",
   "metadata": {},
   "source": [
    "### MS Transaction Fee Revenue ---  \n",
    "######  based on Industry Standard (Coinbase < 10k trans size) && Revenue Share"
   ]
  },
  {
   "cell_type": "code",
   "execution_count": 41,
   "metadata": {},
   "outputs": [
    {
     "name": "stdout",
     "output_type": "stream",
     "text": [
      "2,500 Users --- $ 23,450 (Annual Revenue)\n",
      "5,000 Users --- $ 46,900 (Annual Revenue)\n",
      "7,500 Users --- $ 70,350 (Annual Revenue)\n",
      "10,000 Users --- $ 93,800 (Annual Revenue)\n",
      "12,500 Users --- $ 117,250 (Annual Revenue)\n",
      "15,000 Users --- $ 140,700 (Annual Revenue)\n",
      "17,500 Users --- $ 164,150 (Annual Revenue)\n",
      "20,000 Users --- $ 187,600 (Annual Revenue)\n",
      "22,500 Users --- $ 211,050 (Annual Revenue)\n",
      "25,000 Users --- $ 234,500 (Annual Revenue)\n",
      "27,500 Users --- $ 257,950 (Annual Revenue)\n",
      "30,000 Users --- $ 281,400 (Annual Revenue)\n",
      "32,500 Users --- $ 304,850 (Annual Revenue)\n",
      "35,000 Users --- $ 328,300 (Annual Revenue)\n",
      "37,500 Users --- $ 351,750 (Annual Revenue)\n",
      "40,000 Users --- $ 375,200 (Annual Revenue)\n",
      "42,500 Users --- $ 398,650 (Annual Revenue)\n",
      "45,000 Users --- $ 422,100 (Annual Revenue)\n",
      "47,500 Users --- $ 445,550 (Annual Revenue)\n",
      "50,000 Users --- $ 469,000 (Annual Revenue)\n",
      "52,500 Users --- $ 492,450 (Annual Revenue)\n",
      "55,000 Users --- $ 515,900 (Annual Revenue)\n",
      "57,500 Users --- $ 539,350 (Annual Revenue)\n",
      "60,000 Users --- $ 562,800 (Annual Revenue)\n",
      "62,500 Users --- $ 586,250 (Annual Revenue)\n",
      "65,000 Users --- $ 609,700 (Annual Revenue)\n",
      "67,500 Users --- $ 633,150 (Annual Revenue)\n",
      "70,000 Users --- $ 656,600 (Annual Revenue)\n",
      "72,500 Users --- $ 680,050 (Annual Revenue)\n",
      "75,000 Users --- $ 703,500 (Annual Revenue)\n",
      "77,500 Users --- $ 726,950 (Annual Revenue)\n",
      "80,000 Users --- $ 750,400 (Annual Revenue)\n",
      "82,500 Users --- $ 773,850 (Annual Revenue)\n",
      "85,000 Users --- $ 797,300 (Annual Revenue)\n",
      "87,500 Users --- $ 820,750 (Annual Revenue)\n",
      "90,000 Users --- $ 844,200 (Annual Revenue)\n",
      "92,500 Users --- $ 867,650 (Annual Revenue)\n",
      "95,000 Users --- $ 891,100 (Annual Revenue)\n",
      "97,500 Users --- $ 914,550 (Annual Revenue)\n"
     ]
    }
   ],
   "source": [
    "for userbase in range(2500,100000, 2500):\n",
    "    print(f'{userbase :n} Users --- $ {userbase * suggested_crypto * ms_fee :n} (Annual Revenue)')"
   ]
  },
  {
   "cell_type": "markdown",
   "metadata": {},
   "source": [
    "## Subscription Fee Model"
   ]
  },
  {
   "cell_type": "code",
   "execution_count": 42,
   "metadata": {},
   "outputs": [
    {
     "name": "stdout",
     "output_type": "stream",
     "text": [
      "Annualized SAAS Revenue\n",
      "\n",
      "2,500 Users --- $ 90,000\n",
      "5,000 Users --- $ 180,000\n",
      "7,500 Users --- $ 270,000\n",
      "10,000 Users --- $ 360,000\n",
      "12,500 Users --- $ 450,000\n",
      "15,000 Users --- $ 540,000\n",
      "17,500 Users --- $ 630,000\n",
      "20,000 Users --- $ 720,000\n",
      "22,500 Users --- $ 810,000\n",
      "25,000 Users --- $ 900,000\n",
      "27,500 Users --- $ 990,000\n",
      "30,000 Users --- $ 1,080,000\n",
      "32,500 Users --- $ 1,170,000\n",
      "35,000 Users --- $ 1,260,000\n",
      "37,500 Users --- $ 1,350,000\n",
      "40,000 Users --- $ 1,440,000\n",
      "42,500 Users --- $ 1,530,000\n",
      "45,000 Users --- $ 1,620,000\n",
      "47,500 Users --- $ 1,710,000\n",
      "50,000 Users --- $ 1,800,000\n",
      "52,500 Users --- $ 1,890,000\n",
      "55,000 Users --- $ 1,980,000\n",
      "57,500 Users --- $ 2,070,000\n",
      "60,000 Users --- $ 2,160,000\n",
      "62,500 Users --- $ 2,250,000\n",
      "65,000 Users --- $ 2,340,000\n",
      "67,500 Users --- $ 2,430,000\n",
      "70,000 Users --- $ 2,520,000\n",
      "72,500 Users --- $ 2,610,000\n",
      "75,000 Users --- $ 2,700,000\n",
      "77,500 Users --- $ 2,790,000\n",
      "80,000 Users --- $ 2,880,000\n",
      "82,500 Users --- $ 2,970,000\n",
      "85,000 Users --- $ 3,060,000\n",
      "87,500 Users --- $ 3,150,000\n",
      "90,000 Users --- $ 3,240,000\n",
      "92,500 Users --- $ 3,330,000\n",
      "95,000 Users --- $ 3,420,000\n",
      "97,500 Users --- $ 3,510,000\n",
      "100,000 Users --- $ 3,600,000\n"
     ]
    }
   ],
   "source": [
    "monthly_fee = 3 #SAME as Acorns\n",
    "\n",
    "print(f'Annualized SAAS Revenue\\n')\n",
    "for users in range(2500,100001,2500):\n",
    "    annual_saas_revenue = (users * 12 * monthly_fee)\n",
    "    print(f'{users :n} Users --- $ {annual_saas_revenue :n}')"
   ]
  },
  {
   "cell_type": "markdown",
   "metadata": {},
   "source": [
    "### Deposit / ACH Fees\n",
    "###### Based on Monthly Deposits"
   ]
  },
  {
   "cell_type": "code",
   "execution_count": 43,
   "metadata": {},
   "outputs": [
    {
     "name": "stdout",
     "output_type": "stream",
     "text": [
      "Deposit Fees (Assuming Monthly Deposits -- *4 for Weekly)\n",
      "2,500 Users --- $15,000\n",
      "5,000 Users --- $30,000\n",
      "7,500 Users --- $45,000\n",
      "10,000 Users --- $60,000\n",
      "12,500 Users --- $75,000\n",
      "15,000 Users --- $90,000\n",
      "17,500 Users --- $105,000\n",
      "20,000 Users --- $120,000\n",
      "22,500 Users --- $135,000\n",
      "25,000 Users --- $150,000\n",
      "27,500 Users --- $165,000\n",
      "30,000 Users --- $180,000\n",
      "32,500 Users --- $195,000\n",
      "35,000 Users --- $210,000\n",
      "37,500 Users --- $225,000\n",
      "40,000 Users --- $240,000\n",
      "42,500 Users --- $255,000\n",
      "45,000 Users --- $270,000\n",
      "47,500 Users --- $285,000\n",
      "50,000 Users --- $300,000\n",
      "52,500 Users --- $315,000\n",
      "55,000 Users --- $330,000\n",
      "57,500 Users --- $345,000\n",
      "60,000 Users --- $360,000\n",
      "62,500 Users --- $375,000\n",
      "65,000 Users --- $390,000\n",
      "67,500 Users --- $405,000\n",
      "70,000 Users --- $420,000\n",
      "72,500 Users --- $435,000\n",
      "75,000 Users --- $450,000\n",
      "77,500 Users --- $465,000\n",
      "80,000 Users --- $480,000\n",
      "82,500 Users --- $495,000\n",
      "85,000 Users --- $510,000\n",
      "87,500 Users --- $525,000\n",
      "90,000 Users --- $540,000\n",
      "92,500 Users --- $555,000\n",
      "95,000 Users --- $570,000\n",
      "97,500 Users --- $585,000\n",
      "100,000 Users --- $600,000\n"
     ]
    }
   ],
   "source": [
    "deposit_fees = .50\n",
    "\n",
    "print('Deposit Fees (Assuming Monthly Deposits -- *4 for Weekly)')\n",
    "for users in range(2500,100001,2500):\n",
    "    print(f'{users :n} Users --- ${ users * deposit_fees * 12 :n}')"
   ]
  },
  {
   "cell_type": "markdown",
   "metadata": {},
   "source": [
    "### Combined Revenue Streams (All Viable means)"
   ]
  },
  {
   "cell_type": "code",
   "execution_count": 62,
   "metadata": {},
   "outputs": [
    {
     "name": "stdout",
     "output_type": "stream",
     "text": [
      "TOTAL Fees (If using ALL revenue streams available)\n",
      "\n",
      "Stream % Breakdown -- Trans: 18.256130790190735%, SaaS 70.06617360840795%, Deposit 11.677695601401323% \n",
      "\n",
      "\n",
      "2,500 Users ---> TOTAL Available Revenue $128,450\n",
      "Transctions $23,450 & SAAS $90,000 & Deposit $15,000 \n",
      "\n",
      "5,000 Users ---> TOTAL Available Revenue $256,900\n",
      "Transctions $46,900 & SAAS $180,000 & Deposit $30,000 \n",
      "\n",
      "7,500 Users ---> TOTAL Available Revenue $385,350\n",
      "Transctions $70,350 & SAAS $270,000 & Deposit $45,000 \n",
      "\n",
      "10,000 Users ---> TOTAL Available Revenue $513,800\n",
      "Transctions $93,800 & SAAS $360,000 & Deposit $60,000 \n",
      "\n",
      "12,500 Users ---> TOTAL Available Revenue $642,250\n",
      "Transctions $117,250 & SAAS $450,000 & Deposit $75,000 \n",
      "\n",
      "15,000 Users ---> TOTAL Available Revenue $770,700\n",
      "Transctions $140,700 & SAAS $540,000 & Deposit $90,000 \n",
      "\n",
      "17,500 Users ---> TOTAL Available Revenue $899,150\n",
      "Transctions $164,150 & SAAS $630,000 & Deposit $105,000 \n",
      "\n",
      "20,000 Users ---> TOTAL Available Revenue $1.0276e+06\n",
      "Transctions $187,600 & SAAS $720,000 & Deposit $120,000 \n",
      "\n",
      "22,500 Users ---> TOTAL Available Revenue $1.15605e+06\n",
      "Transctions $211,050 & SAAS $810,000 & Deposit $135,000 \n",
      "\n",
      "25,000 Users ---> TOTAL Available Revenue $1.2845e+06\n",
      "Transctions $234,500 & SAAS $900,000 & Deposit $150,000 \n",
      "\n",
      "27,500 Users ---> TOTAL Available Revenue $1.41295e+06\n",
      "Transctions $257,950 & SAAS $990,000 & Deposit $165,000 \n",
      "\n",
      "30,000 Users ---> TOTAL Available Revenue $1.5414e+06\n",
      "Transctions $281,400 & SAAS $1,080,000 & Deposit $180,000 \n",
      "\n",
      "32,500 Users ---> TOTAL Available Revenue $1.66985e+06\n",
      "Transctions $304,850 & SAAS $1,170,000 & Deposit $195,000 \n",
      "\n",
      "35,000 Users ---> TOTAL Available Revenue $1.7983e+06\n",
      "Transctions $328,300 & SAAS $1,260,000 & Deposit $210,000 \n",
      "\n",
      "37,500 Users ---> TOTAL Available Revenue $1.92675e+06\n",
      "Transctions $351,750 & SAAS $1,350,000 & Deposit $225,000 \n",
      "\n",
      "40,000 Users ---> TOTAL Available Revenue $2.0552e+06\n",
      "Transctions $375,200 & SAAS $1,440,000 & Deposit $240,000 \n",
      "\n",
      "42,500 Users ---> TOTAL Available Revenue $2.18365e+06\n",
      "Transctions $398,650 & SAAS $1,530,000 & Deposit $255,000 \n",
      "\n",
      "45,000 Users ---> TOTAL Available Revenue $2.3121e+06\n",
      "Transctions $422,100 & SAAS $1,620,000 & Deposit $270,000 \n",
      "\n",
      "47,500 Users ---> TOTAL Available Revenue $2.44055e+06\n",
      "Transctions $445,550 & SAAS $1,710,000 & Deposit $285,000 \n",
      "\n",
      "50,000 Users ---> TOTAL Available Revenue $2.569e+06\n",
      "Transctions $469,000 & SAAS $1,800,000 & Deposit $300,000 \n",
      "\n",
      "52,500 Users ---> TOTAL Available Revenue $2.69745e+06\n",
      "Transctions $492,450 & SAAS $1,890,000 & Deposit $315,000 \n",
      "\n",
      "55,000 Users ---> TOTAL Available Revenue $2.8259e+06\n",
      "Transctions $515,900 & SAAS $1,980,000 & Deposit $330,000 \n",
      "\n",
      "57,500 Users ---> TOTAL Available Revenue $2.95435e+06\n",
      "Transctions $539,350 & SAAS $2,070,000 & Deposit $345,000 \n",
      "\n",
      "60,000 Users ---> TOTAL Available Revenue $3.0828e+06\n",
      "Transctions $562,800 & SAAS $2,160,000 & Deposit $360,000 \n",
      "\n",
      "62,500 Users ---> TOTAL Available Revenue $3.21125e+06\n",
      "Transctions $586,250 & SAAS $2,250,000 & Deposit $375,000 \n",
      "\n",
      "65,000 Users ---> TOTAL Available Revenue $3.3397e+06\n",
      "Transctions $609,700 & SAAS $2,340,000 & Deposit $390,000 \n",
      "\n",
      "67,500 Users ---> TOTAL Available Revenue $3.46815e+06\n",
      "Transctions $633,150 & SAAS $2,430,000 & Deposit $405,000 \n",
      "\n",
      "70,000 Users ---> TOTAL Available Revenue $3.5966e+06\n",
      "Transctions $656,600 & SAAS $2,520,000 & Deposit $420,000 \n",
      "\n",
      "72,500 Users ---> TOTAL Available Revenue $3.72505e+06\n",
      "Transctions $680,050 & SAAS $2,610,000 & Deposit $435,000 \n",
      "\n",
      "75,000 Users ---> TOTAL Available Revenue $3.8535e+06\n",
      "Transctions $703,500 & SAAS $2,700,000 & Deposit $450,000 \n",
      "\n",
      "77,500 Users ---> TOTAL Available Revenue $3.98195e+06\n",
      "Transctions $726,950 & SAAS $2,790,000 & Deposit $465,000 \n",
      "\n",
      "80,000 Users ---> TOTAL Available Revenue $4.1104e+06\n",
      "Transctions $750,400 & SAAS $2,880,000 & Deposit $480,000 \n",
      "\n",
      "82,500 Users ---> TOTAL Available Revenue $4.23885e+06\n",
      "Transctions $773,850 & SAAS $2,970,000 & Deposit $495,000 \n",
      "\n",
      "85,000 Users ---> TOTAL Available Revenue $4.3673e+06\n",
      "Transctions $797,300 & SAAS $3,060,000 & Deposit $510,000 \n",
      "\n",
      "87,500 Users ---> TOTAL Available Revenue $4.49575e+06\n",
      "Transctions $820,750 & SAAS $3,150,000 & Deposit $525,000 \n",
      "\n",
      "90,000 Users ---> TOTAL Available Revenue $4.6242e+06\n",
      "Transctions $844,200 & SAAS $3,240,000 & Deposit $540,000 \n",
      "\n",
      "92,500 Users ---> TOTAL Available Revenue $4.75265e+06\n",
      "Transctions $867,650 & SAAS $3,330,000 & Deposit $555,000 \n",
      "\n",
      "95,000 Users ---> TOTAL Available Revenue $4.8811e+06\n",
      "Transctions $891,100 & SAAS $3,420,000 & Deposit $570,000 \n",
      "\n",
      "97,500 Users ---> TOTAL Available Revenue $5.00955e+06\n",
      "Transctions $914,550 & SAAS $3,510,000 & Deposit $585,000 \n",
      "\n",
      "100,000 Users ---> TOTAL Available Revenue $5.138e+06\n",
      "Transctions $938,000 & SAAS $3,600,000 & Deposit $600,000 \n",
      "\n"
     ]
    }
   ],
   "source": [
    "## SET the fee structure here !! \n",
    "\n",
    "monthly_fee = 3\n",
    "deposit_fee = .5\n",
    "trans_fee = .005   #.005 == Standard, based on coinbase < 10k transaction (Assuming NO price cut)\n",
    "\n",
    "\n",
    "\n",
    "##-------------------------- DO NOT TOUCH ------------------------ ## \n",
    "\n",
    "print('TOTAL Fees (If using ALL revenue streams available)\\n')\n",
    "\n",
    "ms_fee = (trans_fee - .001) * .5\n",
    "\n",
    "users = 2500 #JUST initial\n",
    "saas = (users * 12 * monthly_fee)\n",
    "trans = users * suggested_crypto * ms_fee\n",
    "deposits = users * deposit_fee * 12\n",
    "total = saas + trans + deposits\n",
    "print(f'Stream % Breakdown -- Trans: {trans / total * 100}%, SaaS {saas / total * 100}%, Deposit {deposits / total * 100}% \\n\\n')\n",
    "\n",
    "for users in range(2500,100001, 2500):\n",
    "    \n",
    "    saas = (users * 12 * monthly_fee)\n",
    "    trans = users * suggested_crypto * ms_fee\n",
    "    deposits = users * deposit_fee * 12\n",
    "    \n",
    "    total = saas + trans + deposits\n",
    "    print(f'{users :n} Users ---> TOTAL Available Revenue ${saas + trans + deposits :n}')\n",
    "    print(f'Transctions ${trans:n} & SAAS ${saas :n} & Deposit ${deposits :n} \\n')\n",
    "    #print(f'% Breakdown -- Trans: {trans / total * 100}%, SaaS {saas / total * 100}%, Deposit {deposits / total * 100}% ')"
   ]
  }
 ],
 "metadata": {
  "kernelspec": {
   "display_name": "Python 3",
   "language": "python",
   "name": "python3"
  },
  "language_info": {
   "codemirror_mode": {
    "name": "ipython",
    "version": 3
   },
   "file_extension": ".py",
   "mimetype": "text/x-python",
   "name": "python",
   "nbconvert_exporter": "python",
   "pygments_lexer": "ipython3",
   "version": "3.7.6"
  }
 },
 "nbformat": 4,
 "nbformat_minor": 4
}
